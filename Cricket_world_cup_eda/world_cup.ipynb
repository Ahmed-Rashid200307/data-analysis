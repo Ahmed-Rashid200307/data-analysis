{
 "cells": [
  {
   "cell_type": "code",
   "execution_count": 244,
   "id": "ca8288a6",
   "metadata": {},
   "outputs": [],
   "source": [
    "# Cricket is one of the most popular sports in the world, especially in countries like India, Pakistan, Australia, and England.\n",
    "# The Cricket World Cup is held every four years and attracts millions of fans.\n",
    "# In this project, you will analyze Cricket World Cup match data to discover trends, compare team performances, \n",
    "# and visualize key statistics — no machine learning is required.\n",
    "\n",
    "### Dataset Link: ###\n",
    "# https://www.kaggle.com/datasets/sidmalang/all-cricket-world-cup-match-result"
   ]
  },
  {
   "cell_type": "code",
   "execution_count": 245,
   "id": "d1cb1656",
   "metadata": {},
   "outputs": [],
   "source": [
    "import pandas as pd\n",
    "import numpy as np\n",
    "import matplotlib.pyplot as plt\n",
    "import seaborn as sns"
   ]
  },
  {
   "cell_type": "code",
   "execution_count": 246,
   "id": "43adde7b",
   "metadata": {},
   "outputs": [],
   "source": [
    "from pathlib import Path\n",
    "\n",
    "df = pd.DataFrame()\n",
    "\n",
    "dataset = ['world_cup_1975.csv',  'world_cup_1987.csv',  'world_cup_1999.csv',  'world_cup_2011.csv',\n",
    "'world_cup_1979.csv',  'world_cup_1991.csv',  'world_cup_2003.csv',  'world_cup_2015.csv',\n",
    "'world_cup_1983.csv',  'world_cup_1995.csv',  'world_cup_2007.csv', 'world_cup_2019.csv']\n",
    "\n",
    "# Concatenating all the csv data\n",
    "\n",
    "# Matching column names for sanme data \n",
    "# Also making seprate column for cities if available\n",
    "for filename in dataset:\n",
    "    path = Path('./dataset').joinpath(filename)\n",
    "    data = pd.read_csv(path)\n",
    "\n",
    "    if data.columns[3].__contains__('Location'):\n",
    "        \n",
    "        data.rename(columns={'Ground / Location':'Ground'},inplace=True)\n",
    "\n",
    "        ground, city = [],[]\n",
    "\n",
    "        for elem in data['Ground']:\n",
    "            \n",
    "            splitted = elem.split(',')\n",
    "            \n",
    "            ground.append(splitted[0])\n",
    "            city.append(splitted[1].strip())\n",
    "\n",
    "        data['Ground'] = ground\n",
    "        data['City'] = city\n",
    "\n",
    "    # Seperating countries while also keeping match data -- both seperate\n",
    "    if data.columns[2].__contains__('Match'):\n",
    "        match, countries = [], []\n",
    "\n",
    "        for elem in data['Match']:\n",
    "\n",
    "            splitted = elem.split(':')\n",
    "            countries.append(splitted[1].strip())\n",
    "            match.append(splitted[0])\n",
    "\n",
    "        data['Match'] = match\n",
    "        data['Countries'] = countries\n",
    "\n",
    "    df = pd.concat([df,data], ignore_index=True)"
   ]
  },
  {
   "cell_type": "code",
   "execution_count": 247,
   "id": "98e03fdc",
   "metadata": {},
   "outputs": [
    {
     "data": {
      "text/html": [
       "<div>\n",
       "<style scoped>\n",
       "    .dataframe tbody tr th:only-of-type {\n",
       "        vertical-align: middle;\n",
       "    }\n",
       "\n",
       "    .dataframe tbody tr th {\n",
       "        vertical-align: top;\n",
       "    }\n",
       "\n",
       "    .dataframe thead th {\n",
       "        text-align: right;\n",
       "    }\n",
       "</style>\n",
       "<table border=\"1\" class=\"dataframe\">\n",
       "  <thead>\n",
       "    <tr style=\"text-align: right;\">\n",
       "      <th></th>\n",
       "      <th>Id</th>\n",
       "      <th>Date</th>\n",
       "      <th>Countries</th>\n",
       "      <th>Ground</th>\n",
       "      <th>Result</th>\n",
       "      <th>Match</th>\n",
       "      <th>City</th>\n",
       "    </tr>\n",
       "  </thead>\n",
       "  <tbody>\n",
       "    <tr>\n",
       "      <th>0</th>\n",
       "      <td>1</td>\n",
       "      <td>07/06/1975</td>\n",
       "      <td>England v. India</td>\n",
       "      <td>Lord's</td>\n",
       "      <td>England won by 202 runs</td>\n",
       "      <td>NaN</td>\n",
       "      <td>NaN</td>\n",
       "    </tr>\n",
       "    <tr>\n",
       "      <th>1</th>\n",
       "      <td>2</td>\n",
       "      <td>07/06/1975</td>\n",
       "      <td>East Africa v. New Zealand</td>\n",
       "      <td>Edgbaston</td>\n",
       "      <td>New Zealand won by 181 runs</td>\n",
       "      <td>NaN</td>\n",
       "      <td>NaN</td>\n",
       "    </tr>\n",
       "    <tr>\n",
       "      <th>2</th>\n",
       "      <td>3</td>\n",
       "      <td>07/06/1975</td>\n",
       "      <td>Australia v. Pakistan</td>\n",
       "      <td>Headingley</td>\n",
       "      <td>Australia won by 73 runs</td>\n",
       "      <td>NaN</td>\n",
       "      <td>NaN</td>\n",
       "    </tr>\n",
       "    <tr>\n",
       "      <th>3</th>\n",
       "      <td>4</td>\n",
       "      <td>07/06/1975</td>\n",
       "      <td>Sri Lanka v. West Indies</td>\n",
       "      <td>Old Trafford</td>\n",
       "      <td>West Indies won by 9 wickets</td>\n",
       "      <td>NaN</td>\n",
       "      <td>NaN</td>\n",
       "    </tr>\n",
       "    <tr>\n",
       "      <th>4</th>\n",
       "      <td>5</td>\n",
       "      <td>11/06/1975</td>\n",
       "      <td>England v. New Zealand</td>\n",
       "      <td>Trent Bridge</td>\n",
       "      <td>England won by 80 runs</td>\n",
       "      <td>NaN</td>\n",
       "      <td>NaN</td>\n",
       "    </tr>\n",
       "    <tr>\n",
       "      <th>5</th>\n",
       "      <td>6</td>\n",
       "      <td>11/06/1975</td>\n",
       "      <td>East Africa v. India</td>\n",
       "      <td>Headingley</td>\n",
       "      <td>India won by 10 wickets</td>\n",
       "      <td>NaN</td>\n",
       "      <td>NaN</td>\n",
       "    </tr>\n",
       "    <tr>\n",
       "      <th>6</th>\n",
       "      <td>7</td>\n",
       "      <td>11/06/1975</td>\n",
       "      <td>Australia v. Sri Lanka</td>\n",
       "      <td>Kennington Oval</td>\n",
       "      <td>Australia won by 52 runs</td>\n",
       "      <td>NaN</td>\n",
       "      <td>NaN</td>\n",
       "    </tr>\n",
       "    <tr>\n",
       "      <th>7</th>\n",
       "      <td>8</td>\n",
       "      <td>11/06/1975</td>\n",
       "      <td>Pakistan v. West Indies</td>\n",
       "      <td>Edgbaston</td>\n",
       "      <td>West Indies won by 1 wicket</td>\n",
       "      <td>NaN</td>\n",
       "      <td>NaN</td>\n",
       "    </tr>\n",
       "    <tr>\n",
       "      <th>8</th>\n",
       "      <td>9</td>\n",
       "      <td>14/06/1975</td>\n",
       "      <td>England v. East Africa</td>\n",
       "      <td>Edgbaston</td>\n",
       "      <td>England won by 196 runs</td>\n",
       "      <td>NaN</td>\n",
       "      <td>NaN</td>\n",
       "    </tr>\n",
       "    <tr>\n",
       "      <th>9</th>\n",
       "      <td>10</td>\n",
       "      <td>14/06/1975</td>\n",
       "      <td>India v. New Zealand</td>\n",
       "      <td>Old Trafford</td>\n",
       "      <td>New Zealand won by 4 wickets</td>\n",
       "      <td>NaN</td>\n",
       "      <td>NaN</td>\n",
       "    </tr>\n",
       "  </tbody>\n",
       "</table>\n",
       "</div>"
      ],
      "text/plain": [
       "   Id        Date                   Countries           Ground  \\\n",
       "0   1  07/06/1975            England v. India           Lord's   \n",
       "1   2  07/06/1975  East Africa v. New Zealand        Edgbaston   \n",
       "2   3  07/06/1975       Australia v. Pakistan       Headingley   \n",
       "3   4  07/06/1975    Sri Lanka v. West Indies     Old Trafford   \n",
       "4   5  11/06/1975      England v. New Zealand     Trent Bridge   \n",
       "5   6  11/06/1975        East Africa v. India       Headingley   \n",
       "6   7  11/06/1975      Australia v. Sri Lanka  Kennington Oval   \n",
       "7   8  11/06/1975     Pakistan v. West Indies        Edgbaston   \n",
       "8   9  14/06/1975      England v. East Africa        Edgbaston   \n",
       "9  10  14/06/1975        India v. New Zealand     Old Trafford   \n",
       "\n",
       "                         Result Match City  \n",
       "0       England won by 202 runs   NaN  NaN  \n",
       "1   New Zealand won by 181 runs   NaN  NaN  \n",
       "2      Australia won by 73 runs   NaN  NaN  \n",
       "3  West Indies won by 9 wickets   NaN  NaN  \n",
       "4        England won by 80 runs   NaN  NaN  \n",
       "5       India won by 10 wickets   NaN  NaN  \n",
       "6      Australia won by 52 runs   NaN  NaN  \n",
       "7   West Indies won by 1 wicket   NaN  NaN  \n",
       "8       England won by 196 runs   NaN  NaN  \n",
       "9  New Zealand won by 4 wickets   NaN  NaN  "
      ]
     },
     "execution_count": 247,
     "metadata": {},
     "output_type": "execute_result"
    }
   ],
   "source": [
    "# checking if dataframe is consistent\n",
    "df.head(10)"
   ]
  },
  {
   "cell_type": "code",
   "execution_count": 248,
   "id": "9a7314c1",
   "metadata": {},
   "outputs": [
    {
     "data": {
      "text/html": [
       "<div>\n",
       "<style scoped>\n",
       "    .dataframe tbody tr th:only-of-type {\n",
       "        vertical-align: middle;\n",
       "    }\n",
       "\n",
       "    .dataframe tbody tr th {\n",
       "        vertical-align: top;\n",
       "    }\n",
       "\n",
       "    .dataframe thead th {\n",
       "        text-align: right;\n",
       "    }\n",
       "</style>\n",
       "<table border=\"1\" class=\"dataframe\">\n",
       "  <thead>\n",
       "    <tr style=\"text-align: right;\">\n",
       "      <th></th>\n",
       "      <th>Id</th>\n",
       "      <th>Date</th>\n",
       "      <th>Countries</th>\n",
       "      <th>Ground</th>\n",
       "      <th>Result</th>\n",
       "      <th>Match</th>\n",
       "      <th>City</th>\n",
       "    </tr>\n",
       "  </thead>\n",
       "  <tbody>\n",
       "    <tr>\n",
       "      <th>444</th>\n",
       "      <td>39</td>\n",
       "      <td>01/07/2019</td>\n",
       "      <td>Sri Lanka v West Indies</td>\n",
       "      <td>Riverside Ground</td>\n",
       "      <td>Sri Lanka won by 23 runs</td>\n",
       "      <td>39th Match</td>\n",
       "      <td>Chester-Le-Street</td>\n",
       "    </tr>\n",
       "    <tr>\n",
       "      <th>445</th>\n",
       "      <td>40</td>\n",
       "      <td>02/07/2019</td>\n",
       "      <td>Bangladesh v India</td>\n",
       "      <td>Edgbaston</td>\n",
       "      <td>India won by 28 runs</td>\n",
       "      <td>40th Match</td>\n",
       "      <td>Birmingham</td>\n",
       "    </tr>\n",
       "    <tr>\n",
       "      <th>446</th>\n",
       "      <td>41</td>\n",
       "      <td>03/07/2019</td>\n",
       "      <td>England v New Zealand</td>\n",
       "      <td>Riverside Ground</td>\n",
       "      <td>England won by 119 runs</td>\n",
       "      <td>41st Match</td>\n",
       "      <td>Chester-Le-Street</td>\n",
       "    </tr>\n",
       "    <tr>\n",
       "      <th>447</th>\n",
       "      <td>42</td>\n",
       "      <td>04/07/2019</td>\n",
       "      <td>Afghanistan v West Indies</td>\n",
       "      <td>Headingley</td>\n",
       "      <td>West Indies won by 23 runs</td>\n",
       "      <td>42nd Match</td>\n",
       "      <td>Leeds</td>\n",
       "    </tr>\n",
       "    <tr>\n",
       "      <th>448</th>\n",
       "      <td>43</td>\n",
       "      <td>05/07/2019</td>\n",
       "      <td>Bangladesh v Pakistan</td>\n",
       "      <td>Lord's</td>\n",
       "      <td>Pakistan won by 94 runs</td>\n",
       "      <td>43rd Match</td>\n",
       "      <td>London</td>\n",
       "    </tr>\n",
       "    <tr>\n",
       "      <th>449</th>\n",
       "      <td>44</td>\n",
       "      <td>06/07/2019</td>\n",
       "      <td>India v Sri Lanka</td>\n",
       "      <td>Headingley</td>\n",
       "      <td>India won by 7 wickets</td>\n",
       "      <td>44th Match</td>\n",
       "      <td>Leeds</td>\n",
       "    </tr>\n",
       "    <tr>\n",
       "      <th>450</th>\n",
       "      <td>45</td>\n",
       "      <td>06/07/2019</td>\n",
       "      <td>Australia v South Africa</td>\n",
       "      <td>Old Trafford</td>\n",
       "      <td>South Africa won by 10 runs</td>\n",
       "      <td>45th Match</td>\n",
       "      <td>Manchester</td>\n",
       "    </tr>\n",
       "    <tr>\n",
       "      <th>451</th>\n",
       "      <td>46</td>\n",
       "      <td>09/07/2019</td>\n",
       "      <td>India v New Zealand</td>\n",
       "      <td>Old Trafford</td>\n",
       "      <td>New Zealand won by 18 runs</td>\n",
       "      <td>1st Semi Final</td>\n",
       "      <td>Manchester</td>\n",
       "    </tr>\n",
       "    <tr>\n",
       "      <th>452</th>\n",
       "      <td>47</td>\n",
       "      <td>11/07/2019</td>\n",
       "      <td>England v Australia</td>\n",
       "      <td>Edgbaston</td>\n",
       "      <td>England won by 8 wickets</td>\n",
       "      <td>2nd Semi Final</td>\n",
       "      <td>Birmingham</td>\n",
       "    </tr>\n",
       "    <tr>\n",
       "      <th>453</th>\n",
       "      <td>48</td>\n",
       "      <td>14/07/2019</td>\n",
       "      <td>England v New Zealand</td>\n",
       "      <td>Lord's</td>\n",
       "      <td>England won in super over after scores were tied</td>\n",
       "      <td>Final</td>\n",
       "      <td>London</td>\n",
       "    </tr>\n",
       "  </tbody>\n",
       "</table>\n",
       "</div>"
      ],
      "text/plain": [
       "     Id        Date                  Countries            Ground  \\\n",
       "444  39  01/07/2019    Sri Lanka v West Indies  Riverside Ground   \n",
       "445  40  02/07/2019         Bangladesh v India         Edgbaston   \n",
       "446  41  03/07/2019      England v New Zealand  Riverside Ground   \n",
       "447  42  04/07/2019  Afghanistan v West Indies        Headingley   \n",
       "448  43  05/07/2019      Bangladesh v Pakistan            Lord's   \n",
       "449  44  06/07/2019          India v Sri Lanka        Headingley   \n",
       "450  45  06/07/2019   Australia v South Africa      Old Trafford   \n",
       "451  46  09/07/2019        India v New Zealand      Old Trafford   \n",
       "452  47  11/07/2019        England v Australia         Edgbaston   \n",
       "453  48  14/07/2019      England v New Zealand            Lord's   \n",
       "\n",
       "                                               Result           Match  \\\n",
       "444                          Sri Lanka won by 23 runs      39th Match   \n",
       "445                              India won by 28 runs      40th Match   \n",
       "446                           England won by 119 runs      41st Match   \n",
       "447                        West Indies won by 23 runs      42nd Match   \n",
       "448                           Pakistan won by 94 runs      43rd Match   \n",
       "449                            India won by 7 wickets      44th Match   \n",
       "450                       South Africa won by 10 runs      45th Match   \n",
       "451                        New Zealand won by 18 runs  1st Semi Final   \n",
       "452                          England won by 8 wickets  2nd Semi Final   \n",
       "453  England won in super over after scores were tied           Final   \n",
       "\n",
       "                  City  \n",
       "444  Chester-Le-Street  \n",
       "445         Birmingham  \n",
       "446  Chester-Le-Street  \n",
       "447              Leeds  \n",
       "448             London  \n",
       "449              Leeds  \n",
       "450         Manchester  \n",
       "451         Manchester  \n",
       "452         Birmingham  \n",
       "453             London  "
      ]
     },
     "execution_count": 248,
     "metadata": {},
     "output_type": "execute_result"
    }
   ],
   "source": [
    "df.tail(10)"
   ]
  },
  {
   "cell_type": "code",
   "execution_count": 249,
   "id": "9fc47429",
   "metadata": {},
   "outputs": [
    {
     "data": {
      "text/plain": [
       "(454, 7)"
      ]
     },
     "execution_count": 249,
     "metadata": {},
     "output_type": "execute_result"
    }
   ],
   "source": [
    "df.shape"
   ]
  },
  {
   "cell_type": "code",
   "execution_count": 250,
   "id": "22598c00",
   "metadata": {},
   "outputs": [
    {
     "name": "stdout",
     "output_type": "stream",
     "text": [
      "<class 'pandas.core.frame.DataFrame'>\n",
      "RangeIndex: 454 entries, 0 to 453\n",
      "Data columns (total 7 columns):\n",
      " #   Column     Non-Null Count  Dtype \n",
      "---  ------     --------------  ----- \n",
      " 0   Id         454 non-null    int64 \n",
      " 1   Date       454 non-null    object\n",
      " 2   Countries  454 non-null    object\n",
      " 3   Ground     454 non-null    object\n",
      " 4   Result     454 non-null    object\n",
      " 5   Match      125 non-null    object\n",
      " 6   City       125 non-null    object\n",
      "dtypes: int64(1), object(6)\n",
      "memory usage: 25.0+ KB\n"
     ]
    }
   ],
   "source": [
    "df.info()"
   ]
  },
  {
   "cell_type": "markdown",
   "id": "06035457",
   "metadata": {},
   "source": [
    "<h1><b>Data Cleaning</b></h1>"
   ]
  },
  {
   "cell_type": "code",
   "execution_count": 251,
   "id": "88a5460f",
   "metadata": {},
   "outputs": [
    {
     "data": {
      "text/plain": [
       "Id             0\n",
       "Date           0\n",
       "Countries      0\n",
       "Ground         0\n",
       "Result         0\n",
       "Match        329\n",
       "City         329\n",
       "dtype: int64"
      ]
     },
     "execution_count": 251,
     "metadata": {},
     "output_type": "execute_result"
    }
   ],
   "source": [
    "# Checking null values\n",
    "\n",
    "df.isnull().sum()"
   ]
  },
  {
   "cell_type": "markdown",
   "id": "3cab0cbf",
   "metadata": {},
   "source": [
    "<h4>No such cleaning or data filling is required as we wont be dealign with Match column much</h4>"
   ]
  },
  {
   "cell_type": "markdown",
   "id": "28016497",
   "metadata": {
    "vscode": {
     "languageId": "html"
    }
   },
   "source": [
    "<h1><b>EDA.</b></h1>"
   ]
  },
  {
   "cell_type": "code",
   "execution_count": 252,
   "id": "8cbbcfaf",
   "metadata": {},
   "outputs": [
    {
     "name": "stdout",
     "output_type": "stream",
     "text": [
      "Total match played 454\n"
     ]
    }
   ],
   "source": [
    "# Total number of matches played\n",
    "\n",
    "total_match = df.shape[0]\n",
    "print(f\"Total match played {total_match}\")"
   ]
  },
  {
   "cell_type": "code",
   "execution_count": 253,
   "id": "ec07c0a2",
   "metadata": {},
   "outputs": [],
   "source": [
    "# Countries that has the highest win percentage\n",
    "\n",
    "# Lets make a seprate column for the winning team\n",
    "\n",
    "countries = []\n",
    "\n",
    "for result in df['Result']:\n",
    "    team = result.split(' won')\n",
    "    countries.append(team[0])\n",
    "\n",
    "df['Winner'] = countries"
   ]
  },
  {
   "cell_type": "code",
   "execution_count": 254,
   "id": "7b7409e7",
   "metadata": {},
   "outputs": [
    {
     "data": {
      "text/plain": [
       "Winner\n",
       "Australia       72\n",
       "New Zealand     57\n",
       "India           53\n",
       "England         48\n",
       "Pakistan        43\n",
       "West Indies     43\n",
       "South Africa    38\n",
       "Sri Lanka       38\n",
       "Bangladesh      14\n",
       "Zimbabwe        11\n",
       "dtype: int64"
      ]
     },
     "execution_count": 254,
     "metadata": {},
     "output_type": "execute_result"
    }
   ],
   "source": [
    "# TOP 10\n",
    "winners = df.groupby('Winner').size().sort_values(ascending=False)\n",
    "winners.head(10)"
   ]
  },
  {
   "cell_type": "code",
   "execution_count": 255,
   "id": "44487839",
   "metadata": {},
   "outputs": [
    {
     "data": {
      "text/plain": [
       "Ground\n",
       "Old Trafford                17\n",
       "Edgbaston                   16\n",
       "Headingley                  16\n",
       "Kennington Oval             16\n",
       "Trent Bridge                16\n",
       "Melbourne Cricket Ground    15\n",
       "Lord's                      15\n",
       "Sydney Cricket Ground       14\n",
       "Eden Park                   12\n",
       "Adelaide Oval               11\n",
       "dtype: int64"
      ]
     },
     "execution_count": 255,
     "metadata": {},
     "output_type": "execute_result"
    }
   ],
   "source": [
    "# Ground which hosted the most matches\n",
    "\n",
    "# TOP 10\n",
    "\n",
    "ground = df.groupby('Ground').size().sort_values(ascending=False)\n",
    "ground.head(10)"
   ]
  },
  {
   "cell_type": "code",
   "execution_count": 256,
   "id": "90261e95",
   "metadata": {},
   "outputs": [
    {
     "name": "stdout",
     "output_type": "stream",
     "text": [
      "A total of 7 matches ened with no results.\n"
     ]
    },
    {
     "data": {
      "text/html": [
       "<div>\n",
       "<style scoped>\n",
       "    .dataframe tbody tr th:only-of-type {\n",
       "        vertical-align: middle;\n",
       "    }\n",
       "\n",
       "    .dataframe tbody tr th {\n",
       "        vertical-align: top;\n",
       "    }\n",
       "\n",
       "    .dataframe thead th {\n",
       "        text-align: right;\n",
       "    }\n",
       "</style>\n",
       "<table border=\"1\" class=\"dataframe\">\n",
       "  <thead>\n",
       "    <tr style=\"text-align: right;\">\n",
       "      <th></th>\n",
       "      <th>Id</th>\n",
       "      <th>Date</th>\n",
       "      <th>Countries</th>\n",
       "      <th>Ground</th>\n",
       "      <th>Result</th>\n",
       "      <th>Match</th>\n",
       "      <th>City</th>\n",
       "      <th>Winner</th>\n",
       "    </tr>\n",
       "  </thead>\n",
       "  <tbody>\n",
       "    <tr>\n",
       "      <th>74</th>\n",
       "      <td>33</td>\n",
       "      <td>06/06/1999</td>\n",
       "      <td>New Zealand v. Zimbabwe</td>\n",
       "      <td>Headingley</td>\n",
       "      <td>No result</td>\n",
       "      <td>NaN</td>\n",
       "      <td>NaN</td>\n",
       "      <td>No result</td>\n",
       "    </tr>\n",
       "    <tr>\n",
       "      <th>156</th>\n",
       "      <td>9</td>\n",
       "      <td>28/02/1992</td>\n",
       "      <td>India v Sri Lanka</td>\n",
       "      <td>Harrup Park</td>\n",
       "      <td>No result</td>\n",
       "      <td>9th Match</td>\n",
       "      <td>Mackay</td>\n",
       "      <td>No result</td>\n",
       "    </tr>\n",
       "    <tr>\n",
       "      <th>160</th>\n",
       "      <td>13</td>\n",
       "      <td>01/03/1992</td>\n",
       "      <td>England v Pakistan</td>\n",
       "      <td>Adelaide Oval</td>\n",
       "      <td>No result</td>\n",
       "      <td>13th Match</td>\n",
       "      <td>Adelaide</td>\n",
       "      <td>No result</td>\n",
       "    </tr>\n",
       "    <tr>\n",
       "      <th>202</th>\n",
       "      <td>16</td>\n",
       "      <td>18/02/2003</td>\n",
       "      <td>West Indies v. Bangladesh</td>\n",
       "      <td>Willowmoore Park</td>\n",
       "      <td>No result</td>\n",
       "      <td>NaN</td>\n",
       "      <td>NaN</td>\n",
       "      <td>No result</td>\n",
       "    </tr>\n",
       "    <tr>\n",
       "      <th>228</th>\n",
       "      <td>42</td>\n",
       "      <td>04/03/2003</td>\n",
       "      <td>Zimbabwe v. Pakistan</td>\n",
       "      <td>Queens Sports Club</td>\n",
       "      <td>No result</td>\n",
       "      <td>NaN</td>\n",
       "      <td>NaN</td>\n",
       "      <td>No result</td>\n",
       "    </tr>\n",
       "    <tr>\n",
       "      <th>332</th>\n",
       "      <td>16</td>\n",
       "      <td>26/02/1996</td>\n",
       "      <td>Kenya v Zimbabwe</td>\n",
       "      <td>Moin-ul-Haq Stadium</td>\n",
       "      <td>No result</td>\n",
       "      <td>16th Match</td>\n",
       "      <td>Patna</td>\n",
       "      <td>No result</td>\n",
       "    </tr>\n",
       "    <tr>\n",
       "      <th>420</th>\n",
       "      <td>15</td>\n",
       "      <td>10/06/2019</td>\n",
       "      <td>South Africa v West Indies</td>\n",
       "      <td>The Rose Bowl</td>\n",
       "      <td>No result</td>\n",
       "      <td>15th Match</td>\n",
       "      <td>Southampton</td>\n",
       "      <td>No result</td>\n",
       "    </tr>\n",
       "  </tbody>\n",
       "</table>\n",
       "</div>"
      ],
      "text/plain": [
       "     Id        Date                   Countries               Ground  \\\n",
       "74   33  06/06/1999     New Zealand v. Zimbabwe           Headingley   \n",
       "156   9  28/02/1992           India v Sri Lanka          Harrup Park   \n",
       "160  13  01/03/1992          England v Pakistan        Adelaide Oval   \n",
       "202  16  18/02/2003   West Indies v. Bangladesh     Willowmoore Park   \n",
       "228  42  04/03/2003        Zimbabwe v. Pakistan   Queens Sports Club   \n",
       "332  16  26/02/1996            Kenya v Zimbabwe  Moin-ul-Haq Stadium   \n",
       "420  15  10/06/2019  South Africa v West Indies        The Rose Bowl   \n",
       "\n",
       "        Result       Match         City     Winner  \n",
       "74   No result         NaN          NaN  No result  \n",
       "156  No result   9th Match       Mackay  No result  \n",
       "160  No result  13th Match     Adelaide  No result  \n",
       "202  No result         NaN          NaN  No result  \n",
       "228  No result         NaN          NaN  No result  \n",
       "332  No result  16th Match        Patna  No result  \n",
       "420  No result  15th Match  Southampton  No result  "
      ]
     },
     "execution_count": 256,
     "metadata": {},
     "output_type": "execute_result"
    }
   ],
   "source": [
    "# How many matches ended without a result\n",
    "\n",
    "no_result = df[df['Result'] == 'No result']\n",
    "print(f'A total of {no_result.shape[0]} matches ened with no results.')\n",
    "no_result"
   ]
  },
  {
   "cell_type": "markdown",
   "id": "2a554d61",
   "metadata": {},
   "source": [
    "<h1>Visualization</h1>"
   ]
  },
  {
   "cell_type": "code",
   "execution_count": 257,
   "id": "ae377fd2",
   "metadata": {},
   "outputs": [
    {
     "data": {
      "text/plain": [
       "<BarContainer object of 11 artists>"
      ]
     },
     "execution_count": 257,
     "metadata": {},
     "output_type": "execute_result"
    },
    {
     "data": {
      "image/png": "[encoded data removed]",
      "text/plain": [
       "<Figure size 800x550 with 1 Axes>"
      ]
     },
     "metadata": {},
     "output_type": "display_data"
    }
   ],
   "source": [
    "# Lets visualize number of matches, year by year.\n",
    "\n",
    "plt.style.use('seaborn-v0_8')\n",
    "group_date = df.groupby(df['Date'].str[-4:]).size()\n",
    "\n",
    "fig, ax = plt.subplots()\n",
    "\n",
    "ax.set_xlabel('YEARS')\n",
    "ax.set_ylabel('Matches/Year')\n",
    "ax.bar(x=group_date.index.to_list(), height=group_date.to_list())"
   ]
  },
  {
   "cell_type": "code",
   "execution_count": 258,
   "id": "349530d6",
   "metadata": {},
   "outputs": [
    {
     "data": {
      "text/plain": [
       "<BarContainer object of 19 artists>"
      ]
     },
     "execution_count": 258,
     "metadata": {},
     "output_type": "execute_result"
    },
    {
     "data": {
      "image/png": "[encoded data removed]",
      "text/plain": [
       "<Figure size 800x550 with 1 Axes>"
      ]
     },
     "metadata": {},
     "output_type": "display_data"
    }
   ],
   "source": [
    "# Visualizing if ground had any affect on winning teams\n",
    "\n",
    "plt.tick_params(axis='x', rotation = 90)\n",
    "plt.xlabel('Countires')\n",
    "plt.ylabel('Wins')\n",
    "plt.bar(df['Winner'].unique(),height=df['Winner'].value_counts())"
   ]
  }
 ],
 "metadata": {
  "kernelspec": {
   "display_name": "analysis",
   "language": "python",
   "name": "python3"
  },
  "language_info": {
   "codemirror_mode": {
    "name": "ipython",
    "version": 3
   },
   "file_extension": ".py",
   "mimetype": "text/x-python",
   "name": "python",
   "nbconvert_exporter": "python",
   "pygments_lexer": "ipython3",
   "version": "3.12.3"
  }
 },
 "nbformat": 4,
 "nbformat_minor": 5
}
