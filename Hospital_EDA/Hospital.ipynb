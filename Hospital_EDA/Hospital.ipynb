{
  "nbformat": 4,
  "nbformat_minor": 0,
  "metadata": {
    "colab": {
      "provenance": []
    },
    "kernelspec": {
      "name": "python3",
      "display_name": "Python 3"
    },
    "language_info": {
      "name": "python"
    }
  },
  "cells": [
    {
      "cell_type": "code",
      "execution_count": 3,
      "metadata": {
        "id": "naJW8lz0wKU9"
      },
      "outputs": [],
      "source": [
        "import pandas as pd\n",
        "import seaborn as sns\n",
        "import seaborn.objects as so\n",
        "import matplotlib.pyplot as plt\n",
        "\n",
        "h_data = pd.read_csv('HDHI Admission data.csv')"
      ]
    },
    {
      "cell_type": "code",
      "source": [
        "# EDA\n",
        "\n",
        "# null values identification\n",
        "h_data.head(5)"
      ],
      "metadata": {
        "id": "fWJ82AeBwmnl",
        "colab": {
          "base_uri": "https://localhost:8080/",
          "height": 290
        },
        "outputId": "454a527f-536e-49a2-bb4c-1a4a12c7c6ce"
      },
      "execution_count": 4,
      "outputs": [
        {
          "output_type": "execute_result",
          "data": {
            "text/plain": [
              "   SNO MRD No.     D.O.A      D.O.D  AGE GENDER RURAL  \\\n",
              "0    1  234735  4/1/2017   4/3/2017   81      M     R   \n",
              "1    2  234696  4/1/2017   4/5/2017   65      M     R   \n",
              "2    3  234882  4/1/2017   4/3/2017   53      M     U   \n",
              "3    4  234635  4/1/2017   4/8/2017   67      F     U   \n",
              "4    5  234486  4/1/2017  4/23/2017   60      F     U   \n",
              "\n",
              "  TYPE OF ADMISSION-EMERGENCY/OPD month year  DURATION OF STAY  ...  \\\n",
              "0                               E     Apr-17                 3  ...   \n",
              "1                               E     Apr-17                 5  ...   \n",
              "2                               E     Apr-17                 3  ...   \n",
              "3                               E     Apr-17                 8  ...   \n",
              "4                               E     Apr-17                23  ...   \n",
              "\n",
              "   CONGENITAL UTI  NEURO CARDIOGENIC SYNCOPE  ORTHOSTATIC  \\\n",
              "0           0   0                          0            0   \n",
              "1           0   0                          0            0   \n",
              "2           0   0                          0            0   \n",
              "3           0   0                          0            0   \n",
              "4           0   0                          0            0   \n",
              "\n",
              "   INFECTIVE ENDOCARDITIS  DVT  CARDIOGENIC SHOCK  SHOCK  PULMONARY EMBOLISM  \\\n",
              "0                       0    0                  0      0                   0   \n",
              "1                       0    0                  0      0                   0   \n",
              "2                       0    0                  0      0                   0   \n",
              "3                       0    0                  0      0                   0   \n",
              "4                       0    0                  0      0                   0   \n",
              "\n",
              "  CHEST INFECTION  \n",
              "0               0  \n",
              "1               0  \n",
              "2               0  \n",
              "3               0  \n",
              "4               0  \n",
              "\n",
              "[5 rows x 56 columns]"
            ],
            "text/html": [
              "\n",
              "  <div id=\"df-2052c8be-c76b-4648-80fd-176a5a76bb88\" class=\"colab-df-container\">\n",
              "    <div>\n",
              "<style scoped>\n",
              "    .dataframe tbody tr th:only-of-type {\n",
              "        vertical-align: middle;\n",
              "    }\n",
              "\n",
              "    .dataframe tbody tr th {\n",
              "        vertical-align: top;\n",
              "    }\n",
              "\n",
              "    .dataframe thead th {\n",
              "        text-align: right;\n",
              "    }\n",
              "</style>\n",
              "<table border=\"1\" class=\"dataframe\">\n",
              "  <thead>\n",
              "    <tr style=\"text-align: right;\">\n",
              "      <th></th>\n",
              "      <th>SNO</th>\n",
              "      <th>MRD No.</th>\n",
              "      <th>D.O.A</th>\n",
              "      <th>D.O.D</th>\n",
              "      <th>AGE</th>\n",
              "      <th>GENDER</th>\n",
              "      <th>RURAL</th>\n",
              "      <th>TYPE OF ADMISSION-EMERGENCY/OPD</th>\n",
              "      <th>month year</th>\n",
              "      <th>DURATION OF STAY</th>\n",
              "      <th>...</th>\n",
              "      <th>CONGENITAL</th>\n",
              "      <th>UTI</th>\n",
              "      <th>NEURO CARDIOGENIC SYNCOPE</th>\n",
              "      <th>ORTHOSTATIC</th>\n",
              "      <th>INFECTIVE ENDOCARDITIS</th>\n",
              "      <th>DVT</th>\n",
              "      <th>CARDIOGENIC SHOCK</th>\n",
              "      <th>SHOCK</th>\n",
              "      <th>PULMONARY EMBOLISM</th>\n",
              "      <th>CHEST INFECTION</th>\n",
              "    </tr>\n",
              "  </thead>\n",
              "  <tbody>\n",
              "    <tr>\n",
              "      <th>0</th>\n",
              "      <td>1</td>\n",
              "      <td>234735</td>\n",
              "      <td>4/1/2017</td>\n",
              "      <td>4/3/2017</td>\n",
              "      <td>81</td>\n",
              "      <td>M</td>\n",
              "      <td>R</td>\n",
              "      <td>E</td>\n",
              "      <td>Apr-17</td>\n",
              "      <td>3</td>\n",
              "      <td>...</td>\n",
              "      <td>0</td>\n",
              "      <td>0</td>\n",
              "      <td>0</td>\n",
              "      <td>0</td>\n",
              "      <td>0</td>\n",
              "      <td>0</td>\n",
              "      <td>0</td>\n",
              "      <td>0</td>\n",
              "      <td>0</td>\n",
              "      <td>0</td>\n",
              "    </tr>\n",
              "    <tr>\n",
              "      <th>1</th>\n",
              "      <td>2</td>\n",
              "      <td>234696</td>\n",
              "      <td>4/1/2017</td>\n",
              "      <td>4/5/2017</td>\n",
              "      <td>65</td>\n",
              "      <td>M</td>\n",
              "      <td>R</td>\n",
              "      <td>E</td>\n",
              "      <td>Apr-17</td>\n",
              "      <td>5</td>\n",
              "      <td>...</td>\n",
              "      <td>0</td>\n",
              "      <td>0</td>\n",
              "      <td>0</td>\n",
              "      <td>0</td>\n",
              "      <td>0</td>\n",
              "      <td>0</td>\n",
              "      <td>0</td>\n",
              "      <td>0</td>\n",
              "      <td>0</td>\n",
              "      <td>0</td>\n",
              "    </tr>\n",
              "    <tr>\n",
              "      <th>2</th>\n",
              "      <td>3</td>\n",
              "      <td>234882</td>\n",
              "      <td>4/1/2017</td>\n",
              "      <td>4/3/2017</td>\n",
              "      <td>53</td>\n",
              "      <td>M</td>\n",
              "      <td>U</td>\n",
              "      <td>E</td>\n",
              "      <td>Apr-17</td>\n",
              "      <td>3</td>\n",
              "      <td>...</td>\n",
              "      <td>0</td>\n",
              "      <td>0</td>\n",
              "      <td>0</td>\n",
              "      <td>0</td>\n",
              "      <td>0</td>\n",
              "      <td>0</td>\n",
              "      <td>0</td>\n",
              "      <td>0</td>\n",
              "      <td>0</td>\n",
              "      <td>0</td>\n",
              "    </tr>\n",
              "    <tr>\n",
              "      <th>3</th>\n",
              "      <td>4</td>\n",
              "      <td>234635</td>\n",
              "      <td>4/1/2017</td>\n",
              "      <td>4/8/2017</td>\n",
              "      <td>67</td>\n",
              "      <td>F</td>\n",
              "      <td>U</td>\n",
              "      <td>E</td>\n",
              "      <td>Apr-17</td>\n",
              "      <td>8</td>\n",
              "      <td>...</td>\n",
              "      <td>0</td>\n",
              "      <td>0</td>\n",
              "      <td>0</td>\n",
              "      <td>0</td>\n",
              "      <td>0</td>\n",
              "      <td>0</td>\n",
              "      <td>0</td>\n",
              "      <td>0</td>\n",
              "      <td>0</td>\n",
              "      <td>0</td>\n",
              "    </tr>\n",
              "    <tr>\n",
              "      <th>4</th>\n",
              "      <td>5</td>\n",
              "      <td>234486</td>\n",
              "      <td>4/1/2017</td>\n",
              "      <td>4/23/2017</td>\n",
              "      <td>60</td>\n",
              "      <td>F</td>\n",
              "      <td>U</td>\n",
              "      <td>E</td>\n",
              "      <td>Apr-17</td>\n",
              "      <td>23</td>\n",
              "      <td>...</td>\n",
              "      <td>0</td>\n",
              "      <td>0</td>\n",
              "      <td>0</td>\n",
              "      <td>0</td>\n",
              "      <td>0</td>\n",
              "      <td>0</td>\n",
              "      <td>0</td>\n",
              "      <td>0</td>\n",
              "      <td>0</td>\n",
              "      <td>0</td>\n",
              "    </tr>\n",
              "  </tbody>\n",
              "</table>\n",
              "<p>5 rows × 56 columns</p>\n",
              "</div>\n",
              "    <div class=\"colab-df-buttons\">\n",
              "\n",
              "  <div class=\"colab-df-container\">\n",
              "    <button class=\"colab-df-convert\" onclick=\"convertToInteractive('df-2052c8be-c76b-4648-80fd-176a5a76bb88')\"\n",
              "            title=\"Convert this dataframe to an interactive table.\"\n",
              "            style=\"display:none;\">\n",
              "\n",
              "  <svg xmlns=\"http://www.w3.org/2000/svg\" height=\"24px\" viewBox=\"0 -960 960 960\">\n",
              "    <path d=\"M120-120v-720h720v720H120Zm60-500h600v-160H180v160Zm220 220h160v-160H400v160Zm0 220h160v-160H400v160ZM180-400h160v-160H180v160Zm440 0h160v-160H620v160ZM180-180h160v-160H180v160Zm440 0h160v-160H620v160Z\"/>\n",
              "  </svg>\n",
              "    </button>\n",
              "\n",
              "  <style>\n",
              "    .colab-df-container {\n",
              "      display:flex;\n",
              "      gap: 12px;\n",
              "    }\n",
              "\n",
              "    .colab-df-convert {\n",
              "      background-color: #E8F0FE;\n",
              "      border: none;\n",
              "      border-radius: 50%;\n",
              "      cursor: pointer;\n",
              "      display: none;\n",
              "      fill: #1967D2;\n",
              "      height: 32px;\n",
              "      padding: 0 0 0 0;\n",
              "      width: 32px;\n",
              "    }\n",
              "\n",
              "    .colab-df-convert:hover {\n",
              "      background-color: #E2EBFA;\n",
              "      box-shadow: 0px 1px 2px rgba(60, 64, 67, 0.3), 0px 1px 3px 1px rgba(60, 64, 67, 0.15);\n",
              "      fill: #174EA6;\n",
              "    }\n",
              "\n",
              "    .colab-df-buttons div {\n",
              "      margin-bottom: 4px;\n",
              "    }\n",
              "\n",
              "    [theme=dark] .colab-df-convert {\n",
              "      background-color: #3B4455;\n",
              "      fill: #D2E3FC;\n",
              "    }\n",
              "\n",
              "    [theme=dark] .colab-df-convert:hover {\n",
              "      background-color: #434B5C;\n",
              "      box-shadow: 0px 1px 3px 1px rgba(0, 0, 0, 0.15);\n",
              "      filter: drop-shadow(0px 1px 2px rgba(0, 0, 0, 0.3));\n",
              "      fill: #FFFFFF;\n",
              "    }\n",
              "  </style>\n",
              "\n",
              "    <script>\n",
              "      const buttonEl =\n",
              "        document.querySelector('#df-2052c8be-c76b-4648-80fd-176a5a76bb88 button.colab-df-convert');\n",
              "      buttonEl.style.display =\n",
              "        google.colab.kernel.accessAllowed ? 'block' : 'none';\n",
              "\n",
              "      async function convertToInteractive(key) {\n",
              "        const element = document.querySelector('#df-2052c8be-c76b-4648-80fd-176a5a76bb88');\n",
              "        const dataTable =\n",
              "          await google.colab.kernel.invokeFunction('convertToInteractive',\n",
              "                                                    [key], {});\n",
              "        if (!dataTable) return;\n",
              "\n",
              "        const docLinkHtml = 'Like what you see? Visit the ' +\n",
              "          '<a target=\"_blank\" href=https://colab.research.google.com/notebooks/data_table.ipynb>data table notebook</a>'\n",
              "          + ' to learn more about interactive tables.';\n",
              "        element.innerHTML = '';\n",
              "        dataTable['output_type'] = 'display_data';\n",
              "        await google.colab.output.renderOutput(dataTable, element);\n",
              "        const docLink = document.createElement('div');\n",
              "        docLink.innerHTML = docLinkHtml;\n",
              "        element.appendChild(docLink);\n",
              "      }\n",
              "    </script>\n",
              "  </div>\n",
              "\n",
              "\n",
              "    <div id=\"df-2bcb57c7-f239-4dab-b76f-fa43b66851a3\">\n",
              "      <button class=\"colab-df-quickchart\" onclick=\"quickchart('df-2bcb57c7-f239-4dab-b76f-fa43b66851a3')\"\n",
              "                title=\"Suggest charts\"\n",
              "                style=\"display:none;\">\n",
              "\n",
              "<svg xmlns=\"http://www.w3.org/2000/svg\" height=\"24px\"viewBox=\"0 0 24 24\"\n",
              "     width=\"24px\">\n",
              "    <g>\n",
              "        <path d=\"M19 3H5c-1.1 0-2 .9-2 2v14c0 1.1.9 2 2 2h14c1.1 0 2-.9 2-2V5c0-1.1-.9-2-2-2zM9 17H7v-7h2v7zm4 0h-2V7h2v10zm4 0h-2v-4h2v4z\"/>\n",
              "    </g>\n",
              "</svg>\n",
              "      </button>\n",
              "\n",
              "<style>\n",
              "  .colab-df-quickchart {\n",
              "      --bg-color: #E8F0FE;\n",
              "      --fill-color: #1967D2;\n",
              "      --hover-bg-color: #E2EBFA;\n",
              "      --hover-fill-color: #174EA6;\n",
              "      --disabled-fill-color: #AAA;\n",
              "      --disabled-bg-color: #DDD;\n",
              "  }\n",
              "\n",
              "  [theme=dark] .colab-df-quickchart {\n",
              "      --bg-color: #3B4455;\n",
              "      --fill-color: #D2E3FC;\n",
              "      --hover-bg-color: #434B5C;\n",
              "      --hover-fill-color: #FFFFFF;\n",
              "      --disabled-bg-color: #3B4455;\n",
              "      --disabled-fill-color: #666;\n",
              "  }\n",
              "\n",
              "  .colab-df-quickchart {\n",
              "    background-color: var(--bg-color);\n",
              "    border: none;\n",
              "    border-radius: 50%;\n",
              "    cursor: pointer;\n",
              "    display: none;\n",
              "    fill: var(--fill-color);\n",
              "    height: 32px;\n",
              "    padding: 0;\n",
              "    width: 32px;\n",
              "  }\n",
              "\n",
              "  .colab-df-quickchart:hover {\n",
              "    background-color: var(--hover-bg-color);\n",
              "    box-shadow: 0 1px 2px rgba(60, 64, 67, 0.3), 0 1px 3px 1px rgba(60, 64, 67, 0.15);\n",
              "    fill: var(--button-hover-fill-color);\n",
              "  }\n",
              "\n",
              "  .colab-df-quickchart-complete:disabled,\n",
              "  .colab-df-quickchart-complete:disabled:hover {\n",
              "    background-color: var(--disabled-bg-color);\n",
              "    fill: var(--disabled-fill-color);\n",
              "    box-shadow: none;\n",
              "  }\n",
              "\n",
              "  .colab-df-spinner {\n",
              "    border: 2px solid var(--fill-color);\n",
              "    border-color: transparent;\n",
              "    border-bottom-color: var(--fill-color);\n",
              "    animation:\n",
              "      spin 1s steps(1) infinite;\n",
              "  }\n",
              "\n",
              "  @keyframes spin {\n",
              "    0% {\n",
              "      border-color: transparent;\n",
              "      border-bottom-color: var(--fill-color);\n",
              "      border-left-color: var(--fill-color);\n",
              "    }\n",
              "    20% {\n",
              "      border-color: transparent;\n",
              "      border-left-color: var(--fill-color);\n",
              "      border-top-color: var(--fill-color);\n",
              "    }\n",
              "    30% {\n",
              "      border-color: transparent;\n",
              "      border-left-color: var(--fill-color);\n",
              "      border-top-color: var(--fill-color);\n",
              "      border-right-color: var(--fill-color);\n",
              "    }\n",
              "    40% {\n",
              "      border-color: transparent;\n",
              "      border-right-color: var(--fill-color);\n",
              "      border-top-color: var(--fill-color);\n",
              "    }\n",
              "    60% {\n",
              "      border-color: transparent;\n",
              "      border-right-color: var(--fill-color);\n",
              "    }\n",
              "    80% {\n",
              "      border-color: transparent;\n",
              "      border-right-color: var(--fill-color);\n",
              "      border-bottom-color: var(--fill-color);\n",
              "    }\n",
              "    90% {\n",
              "      border-color: transparent;\n",
              "      border-bottom-color: var(--fill-color);\n",
              "    }\n",
              "  }\n",
              "</style>\n",
              "\n",
              "      <script>\n",
              "        async function quickchart(key) {\n",
              "          const quickchartButtonEl =\n",
              "            document.querySelector('#' + key + ' button');\n",
              "          quickchartButtonEl.disabled = true;  // To prevent multiple clicks.\n",
              "          quickchartButtonEl.classList.add('colab-df-spinner');\n",
              "          try {\n",
              "            const charts = await google.colab.kernel.invokeFunction(\n",
              "                'suggestCharts', [key], {});\n",
              "          } catch (error) {\n",
              "            console.error('Error during call to suggestCharts:', error);\n",
              "          }\n",
              "          quickchartButtonEl.classList.remove('colab-df-spinner');\n",
              "          quickchartButtonEl.classList.add('colab-df-quickchart-complete');\n",
              "        }\n",
              "        (() => {\n",
              "          let quickchartButtonEl =\n",
              "            document.querySelector('#df-2bcb57c7-f239-4dab-b76f-fa43b66851a3 button');\n",
              "          quickchartButtonEl.style.display =\n",
              "            google.colab.kernel.accessAllowed ? 'block' : 'none';\n",
              "        })();\n",
              "      </script>\n",
              "    </div>\n",
              "\n",
              "    </div>\n",
              "  </div>\n"
            ],
            "application/vnd.google.colaboratory.intrinsic+json": {
              "type": "dataframe",
              "variable_name": "h_data"
            }
          },
          "metadata": {},
          "execution_count": 4
        }
      ]
    },
    {
      "cell_type": "code",
      "source": [
        "h_data.info()"
      ],
      "metadata": {
        "id": "aETp7sTQwteE",
        "colab": {
          "base_uri": "https://localhost:8080/"
        },
        "outputId": "93bb12c1-de76-4c88-b1ef-190a53b53cc1"
      },
      "execution_count": 78,
      "outputs": [
        {
          "output_type": "stream",
          "name": "stdout",
          "text": [
            "<class 'pandas.core.frame.DataFrame'>\n",
            "RangeIndex: 15757 entries, 0 to 15756\n",
            "Data columns (total 58 columns):\n",
            " #   Column                           Non-Null Count  Dtype         \n",
            "---  ------                           --------------  -----         \n",
            " 0   SNO                              15757 non-null  int64         \n",
            " 1   MRD No.                          15757 non-null  object        \n",
            " 2   D.O.A                            15757 non-null  datetime64[ns]\n",
            " 3   D.O.D                            15757 non-null  object        \n",
            " 4   AGE                              15757 non-null  int64         \n",
            " 5   GENDER                           15757 non-null  object        \n",
            " 6   RURAL                            15757 non-null  object        \n",
            " 7   TYPE OF ADMISSION-EMERGENCY/OPD  15757 non-null  object        \n",
            " 8   month year                       15757 non-null  object        \n",
            " 9   DURATION OF STAY                 15757 non-null  int64         \n",
            " 10  duration of intensive unit stay  15757 non-null  int64         \n",
            " 11  OUTCOME                          15757 non-null  object        \n",
            " 12  SMOKING                          15757 non-null  int64         \n",
            " 13  ALCOHOL                          15757 non-null  int64         \n",
            " 14  DM                               15757 non-null  int64         \n",
            " 15  HTN                              15757 non-null  int64         \n",
            " 16  CAD                              15757 non-null  int64         \n",
            " 17  PRIOR CMP                        15757 non-null  int64         \n",
            " 18  CKD                              15757 non-null  int64         \n",
            " 19  HB                               15505 non-null  object        \n",
            " 20  TLC                              15471 non-null  object        \n",
            " 21  PLATELETS                        15472 non-null  object        \n",
            " 22  GLUCOSE                          14894 non-null  object        \n",
            " 23  UREA                             15516 non-null  object        \n",
            " 24  CREATININE                       15510 non-null  object        \n",
            " 25  BNP                              7316 non-null   object        \n",
            " 26  RAISED CARDIAC ENZYMES           15757 non-null  int64         \n",
            " 27  EF                               14252 non-null  object        \n",
            " 28  SEVERE ANAEMIA                   15757 non-null  int64         \n",
            " 29  ANAEMIA                          15757 non-null  int64         \n",
            " 30  STABLE ANGINA                    15757 non-null  int64         \n",
            " 31  ACS                              15757 non-null  int64         \n",
            " 32  STEMI                            15757 non-null  int64         \n",
            " 33  ATYPICAL CHEST PAIN              15757 non-null  int64         \n",
            " 34  HEART FAILURE                    15757 non-null  int64         \n",
            " 35  HFREF                            15757 non-null  int64         \n",
            " 36  HFNEF                            15757 non-null  int64         \n",
            " 37  VALVULAR                         15757 non-null  int64         \n",
            " 38  CHB                              15757 non-null  int64         \n",
            " 39  SSS                              15757 non-null  int64         \n",
            " 40  AKI                              15757 non-null  int64         \n",
            " 41  CVA INFRACT                      15757 non-null  int64         \n",
            " 42  CVA BLEED                        15757 non-null  int64         \n",
            " 43  AF                               15757 non-null  int64         \n",
            " 44  VT                               15757 non-null  int64         \n",
            " 45  PSVT                             15757 non-null  int64         \n",
            " 46  CONGENITAL                       15757 non-null  int64         \n",
            " 47  UTI                              15757 non-null  int64         \n",
            " 48  NEURO CARDIOGENIC SYNCOPE        15757 non-null  int64         \n",
            " 49  ORTHOSTATIC                      15757 non-null  int64         \n",
            " 50  INFECTIVE ENDOCARDITIS           15757 non-null  int64         \n",
            " 51  DVT                              15757 non-null  int64         \n",
            " 52  CARDIOGENIC SHOCK                15757 non-null  int64         \n",
            " 53  SHOCK                            15757 non-null  int64         \n",
            " 54  PULMONARY EMBOLISM               15757 non-null  int64         \n",
            " 55  CHEST INFECTION                  15757 non-null  object        \n",
            " 56  Day                              15757 non-null  object        \n",
            " 57  Month                            15757 non-null  int64         \n",
            "dtypes: datetime64[ns](1), int64(40), object(17)\n",
            "memory usage: 7.0+ MB\n"
          ]
        }
      ]
    },
    {
      "cell_type": "code",
      "source": [
        "nul_val = h_data.isnull().sum()"
      ],
      "metadata": {
        "id": "nbXGaoXfwtlE"
      },
      "execution_count": 6,
      "outputs": []
    },
    {
      "cell_type": "code",
      "source": [
        "nul_val"
      ],
      "metadata": {
        "id": "xin9XIMuwtn9",
        "colab": {
          "base_uri": "https://localhost:8080/",
          "height": 1000
        },
        "outputId": "a9b32d9f-41eb-49d1-f8ef-49aaa7a3dbc9"
      },
      "execution_count": 7,
      "outputs": [
        {
          "output_type": "execute_result",
          "data": {
            "text/plain": [
              "SNO                                   0\n",
              "MRD No.                               0\n",
              "D.O.A                                 0\n",
              "D.O.D                                 0\n",
              "AGE                                   0\n",
              "GENDER                                0\n",
              "RURAL                                 0\n",
              "TYPE OF ADMISSION-EMERGENCY/OPD       0\n",
              "month year                            0\n",
              "DURATION OF STAY                      0\n",
              "duration of intensive unit stay       0\n",
              "OUTCOME                               0\n",
              "SMOKING                               0\n",
              "ALCOHOL                               0\n",
              "DM                                    0\n",
              "HTN                                   0\n",
              "CAD                                   0\n",
              "PRIOR CMP                             0\n",
              "CKD                                   0\n",
              "HB                                  252\n",
              "TLC                                 286\n",
              "PLATELETS                           285\n",
              "GLUCOSE                             863\n",
              "UREA                                241\n",
              "CREATININE                          247\n",
              "BNP                                8441\n",
              "RAISED CARDIAC ENZYMES                0\n",
              "EF                                 1505\n",
              "SEVERE ANAEMIA                        0\n",
              "ANAEMIA                               0\n",
              "STABLE ANGINA                         0\n",
              "ACS                                   0\n",
              "STEMI                                 0\n",
              "ATYPICAL CHEST PAIN                   0\n",
              "HEART FAILURE                         0\n",
              "HFREF                                 0\n",
              "HFNEF                                 0\n",
              "VALVULAR                              0\n",
              "CHB                                   0\n",
              "SSS                                   0\n",
              "AKI                                   0\n",
              "CVA INFRACT                           0\n",
              "CVA BLEED                             0\n",
              "AF                                    0\n",
              "VT                                    0\n",
              "PSVT                                  0\n",
              "CONGENITAL                            0\n",
              "UTI                                   0\n",
              "NEURO CARDIOGENIC SYNCOPE             0\n",
              "ORTHOSTATIC                           0\n",
              "INFECTIVE ENDOCARDITIS                0\n",
              "DVT                                   0\n",
              "CARDIOGENIC SHOCK                     0\n",
              "SHOCK                                 0\n",
              "PULMONARY EMBOLISM                    0\n",
              "CHEST INFECTION                       0\n",
              "dtype: int64"
            ],
            "text/html": [
              "<div>\n",
              "<style scoped>\n",
              "    .dataframe tbody tr th:only-of-type {\n",
              "        vertical-align: middle;\n",
              "    }\n",
              "\n",
              "    .dataframe tbody tr th {\n",
              "        vertical-align: top;\n",
              "    }\n",
              "\n",
              "    .dataframe thead th {\n",
              "        text-align: right;\n",
              "    }\n",
              "</style>\n",
              "<table border=\"1\" class=\"dataframe\">\n",
              "  <thead>\n",
              "    <tr style=\"text-align: right;\">\n",
              "      <th></th>\n",
              "      <th>0</th>\n",
              "    </tr>\n",
              "  </thead>\n",
              "  <tbody>\n",
              "    <tr>\n",
              "      <th>SNO</th>\n",
              "      <td>0</td>\n",
              "    </tr>\n",
              "    <tr>\n",
              "      <th>MRD No.</th>\n",
              "      <td>0</td>\n",
              "    </tr>\n",
              "    <tr>\n",
              "      <th>D.O.A</th>\n",
              "      <td>0</td>\n",
              "    </tr>\n",
              "    <tr>\n",
              "      <th>D.O.D</th>\n",
              "      <td>0</td>\n",
              "    </tr>\n",
              "    <tr>\n",
              "      <th>AGE</th>\n",
              "      <td>0</td>\n",
              "    </tr>\n",
              "    <tr>\n",
              "      <th>GENDER</th>\n",
              "      <td>0</td>\n",
              "    </tr>\n",
              "    <tr>\n",
              "      <th>RURAL</th>\n",
              "      <td>0</td>\n",
              "    </tr>\n",
              "    <tr>\n",
              "      <th>TYPE OF ADMISSION-EMERGENCY/OPD</th>\n",
              "      <td>0</td>\n",
              "    </tr>\n",
              "    <tr>\n",
              "      <th>month year</th>\n",
              "      <td>0</td>\n",
              "    </tr>\n",
              "    <tr>\n",
              "      <th>DURATION OF STAY</th>\n",
              "      <td>0</td>\n",
              "    </tr>\n",
              "    <tr>\n",
              "      <th>duration of intensive unit stay</th>\n",
              "      <td>0</td>\n",
              "    </tr>\n",
              "    <tr>\n",
              "      <th>OUTCOME</th>\n",
              "      <td>0</td>\n",
              "    </tr>\n",
              "    <tr>\n",
              "      <th>SMOKING</th>\n",
              "      <td>0</td>\n",
              "    </tr>\n",
              "    <tr>\n",
              "      <th>ALCOHOL</th>\n",
              "      <td>0</td>\n",
              "    </tr>\n",
              "    <tr>\n",
              "      <th>DM</th>\n",
              "      <td>0</td>\n",
              "    </tr>\n",
              "    <tr>\n",
              "      <th>HTN</th>\n",
              "      <td>0</td>\n",
              "    </tr>\n",
              "    <tr>\n",
              "      <th>CAD</th>\n",
              "      <td>0</td>\n",
              "    </tr>\n",
              "    <tr>\n",
              "      <th>PRIOR CMP</th>\n",
              "      <td>0</td>\n",
              "    </tr>\n",
              "    <tr>\n",
              "      <th>CKD</th>\n",
              "      <td>0</td>\n",
              "    </tr>\n",
              "    <tr>\n",
              "      <th>HB</th>\n",
              "      <td>252</td>\n",
              "    </tr>\n",
              "    <tr>\n",
              "      <th>TLC</th>\n",
              "      <td>286</td>\n",
              "    </tr>\n",
              "    <tr>\n",
              "      <th>PLATELETS</th>\n",
              "      <td>285</td>\n",
              "    </tr>\n",
              "    <tr>\n",
              "      <th>GLUCOSE</th>\n",
              "      <td>863</td>\n",
              "    </tr>\n",
              "    <tr>\n",
              "      <th>UREA</th>\n",
              "      <td>241</td>\n",
              "    </tr>\n",
              "    <tr>\n",
              "      <th>CREATININE</th>\n",
              "      <td>247</td>\n",
              "    </tr>\n",
              "    <tr>\n",
              "      <th>BNP</th>\n",
              "      <td>8441</td>\n",
              "    </tr>\n",
              "    <tr>\n",
              "      <th>RAISED CARDIAC ENZYMES</th>\n",
              "      <td>0</td>\n",
              "    </tr>\n",
              "    <tr>\n",
              "      <th>EF</th>\n",
              "      <td>1505</td>\n",
              "    </tr>\n",
              "    <tr>\n",
              "      <th>SEVERE ANAEMIA</th>\n",
              "      <td>0</td>\n",
              "    </tr>\n",
              "    <tr>\n",
              "      <th>ANAEMIA</th>\n",
              "      <td>0</td>\n",
              "    </tr>\n",
              "    <tr>\n",
              "      <th>STABLE ANGINA</th>\n",
              "      <td>0</td>\n",
              "    </tr>\n",
              "    <tr>\n",
              "      <th>ACS</th>\n",
              "      <td>0</td>\n",
              "    </tr>\n",
              "    <tr>\n",
              "      <th>STEMI</th>\n",
              "      <td>0</td>\n",
              "    </tr>\n",
              "    <tr>\n",
              "      <th>ATYPICAL CHEST PAIN</th>\n",
              "      <td>0</td>\n",
              "    </tr>\n",
              "    <tr>\n",
              "      <th>HEART FAILURE</th>\n",
              "      <td>0</td>\n",
              "    </tr>\n",
              "    <tr>\n",
              "      <th>HFREF</th>\n",
              "      <td>0</td>\n",
              "    </tr>\n",
              "    <tr>\n",
              "      <th>HFNEF</th>\n",
              "      <td>0</td>\n",
              "    </tr>\n",
              "    <tr>\n",
              "      <th>VALVULAR</th>\n",
              "      <td>0</td>\n",
              "    </tr>\n",
              "    <tr>\n",
              "      <th>CHB</th>\n",
              "      <td>0</td>\n",
              "    </tr>\n",
              "    <tr>\n",
              "      <th>SSS</th>\n",
              "      <td>0</td>\n",
              "    </tr>\n",
              "    <tr>\n",
              "      <th>AKI</th>\n",
              "      <td>0</td>\n",
              "    </tr>\n",
              "    <tr>\n",
              "      <th>CVA INFRACT</th>\n",
              "      <td>0</td>\n",
              "    </tr>\n",
              "    <tr>\n",
              "      <th>CVA BLEED</th>\n",
              "      <td>0</td>\n",
              "    </tr>\n",
              "    <tr>\n",
              "      <th>AF</th>\n",
              "      <td>0</td>\n",
              "    </tr>\n",
              "    <tr>\n",
              "      <th>VT</th>\n",
              "      <td>0</td>\n",
              "    </tr>\n",
              "    <tr>\n",
              "      <th>PSVT</th>\n",
              "      <td>0</td>\n",
              "    </tr>\n",
              "    <tr>\n",
              "      <th>CONGENITAL</th>\n",
              "      <td>0</td>\n",
              "    </tr>\n",
              "    <tr>\n",
              "      <th>UTI</th>\n",
              "      <td>0</td>\n",
              "    </tr>\n",
              "    <tr>\n",
              "      <th>NEURO CARDIOGENIC SYNCOPE</th>\n",
              "      <td>0</td>\n",
              "    </tr>\n",
              "    <tr>\n",
              "      <th>ORTHOSTATIC</th>\n",
              "      <td>0</td>\n",
              "    </tr>\n",
              "    <tr>\n",
              "      <th>INFECTIVE ENDOCARDITIS</th>\n",
              "      <td>0</td>\n",
              "    </tr>\n",
              "    <tr>\n",
              "      <th>DVT</th>\n",
              "      <td>0</td>\n",
              "    </tr>\n",
              "    <tr>\n",
              "      <th>CARDIOGENIC SHOCK</th>\n",
              "      <td>0</td>\n",
              "    </tr>\n",
              "    <tr>\n",
              "      <th>SHOCK</th>\n",
              "      <td>0</td>\n",
              "    </tr>\n",
              "    <tr>\n",
              "      <th>PULMONARY EMBOLISM</th>\n",
              "      <td>0</td>\n",
              "    </tr>\n",
              "    <tr>\n",
              "      <th>CHEST INFECTION</th>\n",
              "      <td>0</td>\n",
              "    </tr>\n",
              "  </tbody>\n",
              "</table>\n",
              "</div><br><label><b>dtype:</b> int64</label>"
            ]
          },
          "metadata": {},
          "execution_count": 7
        }
      ]
    },
    {
      "cell_type": "code",
      "source": [
        "\n",
        "#  What is the total number of admissions?\n",
        "\n",
        "total_admission = len(h_data)\n",
        "\n",
        "print(f'Total no of addmissions: {total_admission}')"
      ],
      "metadata": {
        "id": "HXa37Zgxwtqd",
        "colab": {
          "base_uri": "https://localhost:8080/"
        },
        "outputId": "c37b8fdf-9c21-4391-da43-d64e5538bf00"
      },
      "execution_count": 8,
      "outputs": [
        {
          "output_type": "stream",
          "name": "stdout",
          "text": [
            "Total no of addmissions: 15757\n"
          ]
        }
      ]
    },
    {
      "cell_type": "code",
      "source": [
        "# 2. What is the distribution of gender among admitted patients?\n",
        "\n",
        "# NO MISSING VALUES IN GENDER SO DIRECTLY COUNTING IT\n",
        "genders = h_data.groupby('GENDER').size()\n",
        "print(genders)"
      ],
      "metadata": {
        "id": "hbV8qID-wttK",
        "colab": {
          "base_uri": "https://localhost:8080/"
        },
        "outputId": "36b195db-8bd2-4a38-f212-1ca177e386e5"
      },
      "execution_count": 9,
      "outputs": [
        {
          "output_type": "stream",
          "name": "stdout",
          "text": [
            "GENDER\n",
            "F    5767\n",
            "M    9990\n",
            "dtype: int64\n"
          ]
        }
      ]
    },
    {
      "cell_type": "code",
      "source": [
        "sns.set_style('whitegrid')\n",
        "plot = sns.countplot(x='GENDER',data=h_data)\n",
        "plot.bar_label(plot.containers[0])\n",
        "plot.set_title(\"Gender Distribution\")\n",
        "plt.show()"
      ],
      "metadata": {
        "id": "XZoU-xGZxORE",
        "colab": {
          "base_uri": "https://localhost:8080/",
          "height": 472
        },
        "outputId": "56607df9-f275-45a4-f2c7-9172227d47d6"
      },
      "execution_count": 10,
      "outputs": [
        {
          "output_type": "display_data",
          "data": {
            "text/plain": [
              "<Figure size 640x480 with 1 Axes>"
            ],
            "image/png": "[encoded data removed]"
          },
          "metadata": {}
        }
      ]
    },
    {
      "cell_type": "code",
      "source": [
        "# Which age group is most frequently admitted?\n",
        "\n",
        "gage = h_data.groupby('AGE')\n",
        "gage.size().sort_values(ascending=False).head()"
      ],
      "metadata": {
        "id": "TCmMBmItxS00",
        "colab": {
          "base_uri": "https://localhost:8080/",
          "height": 272
        },
        "outputId": "e93bbc5e-1b32-4ecc-9332-4ccd961f4a13"
      },
      "execution_count": 11,
      "outputs": [
        {
          "output_type": "execute_result",
          "data": {
            "text/plain": [
              "AGE\n",
              "65    912\n",
              "60    884\n",
              "70    769\n",
              "55    640\n",
              "62    603\n",
              "dtype: int64"
            ],
            "text/html": [
              "<div>\n",
              "<style scoped>\n",
              "    .dataframe tbody tr th:only-of-type {\n",
              "        vertical-align: middle;\n",
              "    }\n",
              "\n",
              "    .dataframe tbody tr th {\n",
              "        vertical-align: top;\n",
              "    }\n",
              "\n",
              "    .dataframe thead th {\n",
              "        text-align: right;\n",
              "    }\n",
              "</style>\n",
              "<table border=\"1\" class=\"dataframe\">\n",
              "  <thead>\n",
              "    <tr style=\"text-align: right;\">\n",
              "      <th></th>\n",
              "      <th>0</th>\n",
              "    </tr>\n",
              "    <tr>\n",
              "      <th>AGE</th>\n",
              "      <th></th>\n",
              "    </tr>\n",
              "  </thead>\n",
              "  <tbody>\n",
              "    <tr>\n",
              "      <th>65</th>\n",
              "      <td>912</td>\n",
              "    </tr>\n",
              "    <tr>\n",
              "      <th>60</th>\n",
              "      <td>884</td>\n",
              "    </tr>\n",
              "    <tr>\n",
              "      <th>70</th>\n",
              "      <td>769</td>\n",
              "    </tr>\n",
              "    <tr>\n",
              "      <th>55</th>\n",
              "      <td>640</td>\n",
              "    </tr>\n",
              "    <tr>\n",
              "      <th>62</th>\n",
              "      <td>603</td>\n",
              "    </tr>\n",
              "  </tbody>\n",
              "</table>\n",
              "</div><br><label><b>dtype:</b> int64</label>"
            ]
          },
          "metadata": {},
          "execution_count": 11
        }
      ]
    },
    {
      "cell_type": "code",
      "source": [
        "plot = sns.histplot(x='AGE',data=h_data)\n",
        "plot.set_title(\"Age Distribution\")\n",
        "plot.figure.set_size_inches(15,5)\n",
        "plt.rcParams.update({'xtick.labelsize': 6})\n",
        "plt.show()"
      ],
      "metadata": {
        "id": "YGgDo_5Qz0LH",
        "colab": {
          "base_uri": "https://localhost:8080/",
          "height": 454
        },
        "outputId": "31363e1f-4994-4da3-d96a-f5f1fcd562a1"
      },
      "execution_count": 69,
      "outputs": [
        {
          "output_type": "display_data",
          "data": {
            "text/plain": [
              "<Figure size 1500x500 with 1 Axes>"
            ],
            "image/png": "[encoded data removed]"
          },
          "metadata": {}
        }
      ]
    },
    {
      "cell_type": "code",
      "source": [
        "# Shows frequently admitted patiends are from 55 to 75 years old\n",
        "distribution = sns.displot(data=h_data,x='AGE',aspect=3,bins=50)"
      ],
      "metadata": {
        "id": "lHy0BEBz4M8m",
        "colab": {
          "base_uri": "https://localhost:8080/",
          "height": 401
        },
        "outputId": "791547db-7f2e-44df-c14c-6d6fc9fa13a4"
      },
      "execution_count": 13,
      "outputs": [
        {
          "output_type": "display_data",
          "data": {
            "text/plain": [
              "<Figure size 1500x500 with 1 Axes>"
            ],
            "image/png": "[encoded data removed]"
          },
          "metadata": {}
        }
      ]
    },
    {
      "cell_type": "code",
      "source": [
        "# What are the most common admission types?\n",
        "\n",
        "group_admission = h_data.groupby('TYPE OF ADMISSION-EMERGENCY/OPD')\n",
        "group_admission_sorted = group_admission.size().sort_values(ascending=False)\n",
        "group_admission_sorted"
      ],
      "metadata": {
        "id": "kWlYrlTl6E_u",
        "colab": {
          "base_uri": "https://localhost:8080/",
          "height": 178
        },
        "outputId": "e8486829-85ba-460d-d62e-afa7c9240a10"
      },
      "execution_count": 14,
      "outputs": [
        {
          "output_type": "execute_result",
          "data": {
            "text/plain": [
              "TYPE OF ADMISSION-EMERGENCY/OPD\n",
              "E    10924\n",
              "O     4833\n",
              "dtype: int64"
            ],
            "text/html": [
              "<div>\n",
              "<style scoped>\n",
              "    .dataframe tbody tr th:only-of-type {\n",
              "        vertical-align: middle;\n",
              "    }\n",
              "\n",
              "    .dataframe tbody tr th {\n",
              "        vertical-align: top;\n",
              "    }\n",
              "\n",
              "    .dataframe thead th {\n",
              "        text-align: right;\n",
              "    }\n",
              "</style>\n",
              "<table border=\"1\" class=\"dataframe\">\n",
              "  <thead>\n",
              "    <tr style=\"text-align: right;\">\n",
              "      <th></th>\n",
              "      <th>0</th>\n",
              "    </tr>\n",
              "    <tr>\n",
              "      <th>TYPE OF ADMISSION-EMERGENCY/OPD</th>\n",
              "      <th></th>\n",
              "    </tr>\n",
              "  </thead>\n",
              "  <tbody>\n",
              "    <tr>\n",
              "      <th>E</th>\n",
              "      <td>10924</td>\n",
              "    </tr>\n",
              "    <tr>\n",
              "      <th>O</th>\n",
              "      <td>4833</td>\n",
              "    </tr>\n",
              "  </tbody>\n",
              "</table>\n",
              "</div><br><label><b>dtype:</b> int64</label>"
            ]
          },
          "metadata": {},
          "execution_count": 14
        }
      ]
    },
    {
      "cell_type": "code",
      "source": [
        "# The plot shows that emergeny admission is almost double of that of OPD admission\n",
        "admission_bar = sns.countplot(x='TYPE OF ADMISSION-EMERGENCY/OPD',data=h_data,width=0.5)\n",
        "admission_bar.set_title(\"Admission Type\")\n",
        "admission_bar.bar_label(admission_bar.containers[0])"
      ],
      "metadata": {
        "id": "dJ9lYiAh6ip2",
        "colab": {
          "base_uri": "https://localhost:8080/",
          "height": 484
        },
        "outputId": "8c88c46e-c8c9-40ec-8fe4-f540b5828aee"
      },
      "execution_count": 15,
      "outputs": [
        {
          "output_type": "execute_result",
          "data": {
            "text/plain": [
              "[Text(0, 0, '10924'), Text(0, 0, '4833')]"
            ]
          },
          "metadata": {},
          "execution_count": 15
        },
        {
          "output_type": "display_data",
          "data": {
            "text/plain": [
              "<Figure size 640x480 with 1 Axes>"
            ],
            "image/png": "[encoded data removed]"
          },
          "metadata": {}
        }
      ]
    },
    {
      "cell_type": "code",
      "source": [
        "# from datetime import datetime as dt\n",
        "\n",
        "# converts date of addmission given in string to python datetime instead of\n",
        "# def convertToDatetime(item):\n",
        "\n",
        "#   doa = [int(x) for x in item.split('/')]\n",
        "\n",
        "#   if doa[0] > 12:\n",
        "#   date = dt(int(doa[2]),int(doa[1]),int(doa[0]))\n",
        "#   else:\n",
        "#     date = dt(int(doa[2]),int(doa[0]),int(doa[1]))\n",
        "\n",
        "#   return date.strftime('%A')"
      ],
      "metadata": {
        "id": "D-d-muUhtBoB"
      },
      "execution_count": 18,
      "outputs": []
    },
    {
      "cell_type": "code",
      "source": [
        "# Q) On which day of the week do most patients get admitted?\n",
        "\n",
        "# first convert date of addmission to pandas Timestamp object &\n",
        "# Make a day column in data\n",
        "\n",
        "h_data['D.O.A'] = pd.to_datetime(h_data['D.O.A'],format='mixed')\n",
        "h_data['Day'] = [x.day_name() for x in h_data['D.O.A']]"
      ],
      "metadata": {
        "id": "eMUB296kCq2n"
      },
      "execution_count": 19,
      "outputs": []
    },
    {
      "cell_type": "code",
      "source": [
        "groupby_day = h_data.groupby('Day').size()\n",
        "groupby_day"
      ],
      "metadata": {
        "id": "hsn7n_JkB1zd",
        "colab": {
          "base_uri": "https://localhost:8080/",
          "height": 335
        },
        "outputId": "fbbbef2d-2820-4d23-9595-5dcb8a1fbcc1"
      },
      "execution_count": 20,
      "outputs": [
        {
          "output_type": "execute_result",
          "data": {
            "text/plain": [
              "Day\n",
              "Friday       2275\n",
              "Monday       2548\n",
              "Saturday     2123\n",
              "Sunday       1852\n",
              "Thursday     2319\n",
              "Tuesday      2421\n",
              "Wednesday    2219\n",
              "dtype: int64"
            ],
            "text/html": [
              "<div>\n",
              "<style scoped>\n",
              "    .dataframe tbody tr th:only-of-type {\n",
              "        vertical-align: middle;\n",
              "    }\n",
              "\n",
              "    .dataframe tbody tr th {\n",
              "        vertical-align: top;\n",
              "    }\n",
              "\n",
              "    .dataframe thead th {\n",
              "        text-align: right;\n",
              "    }\n",
              "</style>\n",
              "<table border=\"1\" class=\"dataframe\">\n",
              "  <thead>\n",
              "    <tr style=\"text-align: right;\">\n",
              "      <th></th>\n",
              "      <th>0</th>\n",
              "    </tr>\n",
              "    <tr>\n",
              "      <th>Day</th>\n",
              "      <th></th>\n",
              "    </tr>\n",
              "  </thead>\n",
              "  <tbody>\n",
              "    <tr>\n",
              "      <th>Friday</th>\n",
              "      <td>2275</td>\n",
              "    </tr>\n",
              "    <tr>\n",
              "      <th>Monday</th>\n",
              "      <td>2548</td>\n",
              "    </tr>\n",
              "    <tr>\n",
              "      <th>Saturday</th>\n",
              "      <td>2123</td>\n",
              "    </tr>\n",
              "    <tr>\n",
              "      <th>Sunday</th>\n",
              "      <td>1852</td>\n",
              "    </tr>\n",
              "    <tr>\n",
              "      <th>Thursday</th>\n",
              "      <td>2319</td>\n",
              "    </tr>\n",
              "    <tr>\n",
              "      <th>Tuesday</th>\n",
              "      <td>2421</td>\n",
              "    </tr>\n",
              "    <tr>\n",
              "      <th>Wednesday</th>\n",
              "      <td>2219</td>\n",
              "    </tr>\n",
              "  </tbody>\n",
              "</table>\n",
              "</div><br><label><b>dtype:</b> int64</label>"
            ]
          },
          "metadata": {},
          "execution_count": 20
        }
      ]
    },
    {
      "cell_type": "code",
      "source": [
        "# Plot shows most patients got admitted on monday but there is no as such big difference\n",
        "sns.countplot(x='Day',data=h_data)"
      ],
      "metadata": {
        "id": "7ww9gLcYCGY3",
        "colab": {
          "base_uri": "https://localhost:8080/",
          "height": 461
        },
        "outputId": "95e75a87-581c-4731-ddfe-f88278fd44fa"
      },
      "execution_count": 21,
      "outputs": [
        {
          "output_type": "execute_result",
          "data": {
            "text/plain": [
              "<Axes: xlabel='Day', ylabel='count'>"
            ]
          },
          "metadata": {},
          "execution_count": 21
        },
        {
          "output_type": "display_data",
          "data": {
            "text/plain": [
              "<Figure size 640x480 with 1 Axes>"
            ],
            "image/png": "[encoded data removed]"
          },
          "metadata": {}
        }
      ]
    },
    {
      "cell_type": "code",
      "source": [
        "# What percentage of patients have visited before (previous_visits > 0)?\n",
        "\n",
        "# To check if a person has visited before we can use the medical record department no (MRD No)\n",
        "# from the data it looks like each patient is assigned a unique mrd no if patient visits again record will have it\n",
        "# more than 15k admissions but only 12244 mrd some have visited again(mrd no does not have missing/null values)\n",
        "\n",
        "unique = len(h_data['MRD No.'].unique())\n",
        "unique"
      ],
      "metadata": {
        "id": "2QJ1O_tMCvR2",
        "colab": {
          "base_uri": "https://localhost:8080/"
        },
        "outputId": "204c877f-195f-4e6e-bee1-afe5f11517c7"
      },
      "execution_count": 22,
      "outputs": [
        {
          "output_type": "execute_result",
          "data": {
            "text/plain": [
              "12244"
            ]
          },
          "metadata": {},
          "execution_count": 22
        }
      ]
    },
    {
      "cell_type": "code",
      "source": [
        "# we can subtract unique mrds from total toget number of patients who have visited before\n",
        "total_patients = len(h_data)\n",
        "visited = total_patients-unique\n",
        "not_visited = total_patients-(visited*2)\n",
        "percent_visited = ((visited*2)/total_patients)*100\n",
        "percent_notvisited = (not_visited/total_patients)*100\n",
        "\n",
        "plt.figure(figsize=(6, 6))\n",
        "plt.pie([percent_visited,percent_notvisited],labels=['Visted twice or more','Visited once'],autopct='%1.1f%%')"
      ],
      "metadata": {
        "id": "NGucyb2hSmKu",
        "colab": {
          "base_uri": "https://localhost:8080/",
          "height": 603
        },
        "outputId": "716b8296-ff1a-4048-86b8-9a17f47fe79d"
      },
      "execution_count": 91,
      "outputs": [
        {
          "output_type": "execute_result",
          "data": {
            "text/plain": [
              "([<matplotlib.patches.Wedge at 0x7ba389e34c10>,\n",
              "  <matplotlib.patches.Wedge at 0x7ba39896f250>],\n",
              " [Text(0.18606727530399833, 1.0841489607341541, 'Visted twice or more'),\n",
              "  Text(-0.18606705128405088, -1.0841489991815971, 'Visited once')],\n",
              " [Text(0.10149124107490817, 0.5913539785822658, '44.6%'),\n",
              "  Text(-0.10149111888220956, -0.5913539995535984, '55.4%')])"
            ]
          },
          "metadata": {},
          "execution_count": 91
        },
        {
          "output_type": "display_data",
          "data": {
            "text/plain": [
              "<Figure size 600x600 with 1 Axes>"
            ],
            "image/png": "[encoded data removed]"
          },
          "metadata": {}
        }
      ]
    },
    {
      "cell_type": "code",
      "source": [
        "# Is there a difference in admission types across genders?\n",
        "\n",
        "# Grouping the data it seems that both male and female admitted in emergency\n",
        "# is aprox double of that admitted in opd (See plot below for visualization)\n",
        "\n",
        "admission_gender_group  = group_admission['GENDER'].value_counts()\n",
        "admission_gender_group"
      ],
      "metadata": {
        "id": "DKJ66NMEYzQi",
        "colab": {
          "base_uri": "https://localhost:8080/",
          "height": 241
        },
        "outputId": "e9c65bff-5ae4-4eeb-e8d1-6a0b61620b00"
      },
      "execution_count": 24,
      "outputs": [
        {
          "output_type": "execute_result",
          "data": {
            "text/plain": [
              "TYPE OF ADMISSION-EMERGENCY/OPD  GENDER\n",
              "E                                M         6869\n",
              "                                 F         4055\n",
              "O                                M         3121\n",
              "                                 F         1712\n",
              "Name: count, dtype: int64"
            ],
            "text/html": [
              "<div>\n",
              "<style scoped>\n",
              "    .dataframe tbody tr th:only-of-type {\n",
              "        vertical-align: middle;\n",
              "    }\n",
              "\n",
              "    .dataframe tbody tr th {\n",
              "        vertical-align: top;\n",
              "    }\n",
              "\n",
              "    .dataframe thead th {\n",
              "        text-align: right;\n",
              "    }\n",
              "</style>\n",
              "<table border=\"1\" class=\"dataframe\">\n",
              "  <thead>\n",
              "    <tr style=\"text-align: right;\">\n",
              "      <th></th>\n",
              "      <th></th>\n",
              "      <th>count</th>\n",
              "    </tr>\n",
              "    <tr>\n",
              "      <th>TYPE OF ADMISSION-EMERGENCY/OPD</th>\n",
              "      <th>GENDER</th>\n",
              "      <th></th>\n",
              "    </tr>\n",
              "  </thead>\n",
              "  <tbody>\n",
              "    <tr>\n",
              "      <th rowspan=\"2\" valign=\"top\">E</th>\n",
              "      <th>M</th>\n",
              "      <td>6869</td>\n",
              "    </tr>\n",
              "    <tr>\n",
              "      <th>F</th>\n",
              "      <td>4055</td>\n",
              "    </tr>\n",
              "    <tr>\n",
              "      <th rowspan=\"2\" valign=\"top\">O</th>\n",
              "      <th>M</th>\n",
              "      <td>3121</td>\n",
              "    </tr>\n",
              "    <tr>\n",
              "      <th>F</th>\n",
              "      <td>1712</td>\n",
              "    </tr>\n",
              "  </tbody>\n",
              "</table>\n",
              "</div><br><label><b>dtype:</b> int64</label>"
            ]
          },
          "metadata": {},
          "execution_count": 24
        }
      ]
    },
    {
      "cell_type": "code",
      "source": [
        "sns.countplot(x='TYPE OF ADMISSION-EMERGENCY/OPD',hue='GENDER',data=h_data)"
      ],
      "metadata": {
        "id": "pfwHjGw6gX0H",
        "colab": {
          "base_uri": "https://localhost:8080/",
          "height": 461
        },
        "outputId": "82a43449-9930-48ea-8037-8ed04262e0d6"
      },
      "execution_count": 25,
      "outputs": [
        {
          "output_type": "execute_result",
          "data": {
            "text/plain": [
              "<Axes: xlabel='TYPE OF ADMISSION-EMERGENCY/OPD', ylabel='count'>"
            ]
          },
          "metadata": {},
          "execution_count": 25
        },
        {
          "output_type": "display_data",
          "data": {
            "text/plain": [
              "<Figure size 640x480 with 1 Axes>"
            ],
            "image/png": "[encoded data removed]"
          },
          "metadata": {}
        }
      ]
    },
    {
      "cell_type": "code",
      "source": [
        "# Create 3 visualizations to represent interesting patterns in the data.\n",
        "# used seaborn object api here\n",
        "# Plot shows that as expected older people required more intensive care then younger generation\n",
        "# PLOT 1\n",
        "print(h_data['duration of intensive unit stay'].max())\n",
        "obj = so.Plot(h_data,x='AGE',y='duration of intensive unit stay').add(so.Line(), so.PolyFit(order=10))\n",
        "obj.show()"
      ],
      "metadata": {
        "id": "-bfY-jSJhOeV",
        "colab": {
          "base_uri": "https://localhost:8080/",
          "height": 497
        },
        "outputId": "55388f73-0786-4295-acf9-b1780fe53cf2"
      },
      "execution_count": 26,
      "outputs": [
        {
          "output_type": "stream",
          "name": "stdout",
          "text": [
            "58\n"
          ]
        },
        {
          "output_type": "display_data",
          "data": {
            "text/plain": [
              "<Figure size 640x480 with 1 Axes>"
            ],
            "image/png": "[encoded data removed]"
          },
          "metadata": {}
        }
      ]
    },
    {
      "cell_type": "code",
      "source": [
        "# PLOT 2\n",
        "admission_group = h_data.groupby('TYPE OF ADMISSION-EMERGENCY/OPD')\n",
        "admission_count = sns.countplot(data=h_data,x='AGE',hue='TYPE OF ADMISSION-EMERGENCY/OPD',gap=0)\n",
        "admission_count.figure.set_size_inches(15,5)"
      ],
      "metadata": {
        "id": "5i5_44VzwMWt",
        "colab": {
          "base_uri": "https://localhost:8080/",
          "height": 438
        },
        "outputId": "9a38bdd7-f844-4150-b0cf-b2cb3349ddfe"
      },
      "execution_count": 76,
      "outputs": [
        {
          "output_type": "display_data",
          "data": {
            "text/plain": [
              "<Figure size 1500x500 with 1 Axes>"
            ],
            "image/png": "[encoded data removed]"
          },
          "metadata": {}
        }
      ]
    },
    {
      "cell_type": "markdown",
      "source": [
        "////// **For each age, number or people admitted in emergency are double. the hospital should provide more facility in that area** ////"
      ],
      "metadata": {
        "id": "JUoQ23esFkC9"
      }
    },
    {
      "cell_type": "code",
      "source": [
        "# Risisng number of admissions at the end of the year\n",
        "h_data['Month'] = [x.month for x in h_data['D.O.A']]\n",
        "sns.histplot(data=h_data,x='Month')"
      ],
      "metadata": {
        "colab": {
          "base_uri": "https://localhost:8080/",
          "height": 460
        },
        "id": "YaHPb1em7nfo",
        "outputId": "8962f20e-d2fc-4a09-8b9d-28c7f418ca14"
      },
      "execution_count": 75,
      "outputs": [
        {
          "output_type": "execute_result",
          "data": {
            "text/plain": [
              "<Axes: xlabel='Month', ylabel='Count'>"
            ]
          },
          "metadata": {},
          "execution_count": 75
        },
        {
          "output_type": "display_data",
          "data": {
            "text/plain": [
              "<Figure size 640x480 with 1 Axes>"
            ],
            "image/png": "[encoded data removed]"
          },
          "metadata": {}
        }
      ]
    }
  ]
}